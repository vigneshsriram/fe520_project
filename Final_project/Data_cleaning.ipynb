{
 "cells": [
  {
   "cell_type": "code",
   "execution_count": 16,
   "metadata": {
    "collapsed": true
   },
   "outputs": [],
   "source": [
    "#imports\n",
    "import pandas as pd  \n",
    "import numpy as np\n",
    "import matplotlib.pyplot as plt\n",
    "import re"
   ]
  },
  {
   "cell_type": "code",
   "execution_count": 2,
   "metadata": {},
   "outputs": [
    {
     "data": {
      "text/html": [
       "<div>\n",
       "<style>\n",
       "    .dataframe thead tr:only-child th {\n",
       "        text-align: right;\n",
       "    }\n",
       "\n",
       "    .dataframe thead th {\n",
       "        text-align: left;\n",
       "    }\n",
       "\n",
       "    .dataframe tbody tr th {\n",
       "        vertical-align: top;\n",
       "    }\n",
       "</style>\n",
       "<table border=\"1\" class=\"dataframe\">\n",
       "  <thead>\n",
       "    <tr style=\"text-align: right;\">\n",
       "      <th></th>\n",
       "      <th>username</th>\n",
       "      <th>date</th>\n",
       "      <th>retweets</th>\n",
       "      <th>favorites</th>\n",
       "      <th>Sentiment</th>\n",
       "      <th>text</th>\n",
       "      <th>geo</th>\n",
       "      <th>mentions</th>\n",
       "      <th>hashtags</th>\n",
       "      <th>id</th>\n",
       "      <th>permalink</th>\n",
       "      <th>Unnamed: 11</th>\n",
       "      <th>Unnamed: 12</th>\n",
       "      <th>Unnamed: 13</th>\n",
       "      <th>Unnamed: 14</th>\n",
       "      <th>Unnamed: 15</th>\n",
       "      <th>Unnamed: 16</th>\n",
       "      <th>Unnamed: 17</th>\n",
       "    </tr>\n",
       "  </thead>\n",
       "  <tbody>\n",
       "    <tr>\n",
       "      <th>0</th>\n",
       "      <td>stannabozny</td>\n",
       "      <td>28-04-19 14:37</td>\n",
       "      <td>0</td>\n",
       "      <td>0</td>\n",
       "      <td>NaN</td>\n",
       "      <td>The Big Five FAANG Stock and Sector Service is...</td>\n",
       "      <td>NaN</td>\n",
       "      <td>NaN</td>\n",
       "      <td>#AMZN #AAPL #FB #NFLX #TSLA #GOOGL #IBB #IYR #...</td>\n",
       "      <td>1.12257E+18</td>\n",
       "      <td>https://twitter.com/stannabozny/status/1122570...</td>\n",
       "      <td>NaN</td>\n",
       "      <td>NaN</td>\n",
       "      <td>NaN</td>\n",
       "      <td>NaN</td>\n",
       "      <td>NaN</td>\n",
       "      <td>NaN</td>\n",
       "      <td>NaN</td>\n",
       "    </tr>\n",
       "    <tr>\n",
       "      <th>1</th>\n",
       "      <td>fine209</td>\n",
       "      <td>28-04-19 10:48</td>\n",
       "      <td>0</td>\n",
       "      <td>0</td>\n",
       "      <td>NaN</td>\n",
       "      <td>#Apple #ipad #ipadair #aapl https://www. ebay-...</td>\n",
       "      <td>NaN</td>\n",
       "      <td>NaN</td>\n",
       "      <td>#Apple #ipad #ipadair #aapl</td>\n",
       "      <td>1.12251E+18</td>\n",
       "      <td>https://twitter.com/fine209/status/11225128987...</td>\n",
       "      <td>NaN</td>\n",
       "      <td>NaN</td>\n",
       "      <td>NaN</td>\n",
       "      <td>NaN</td>\n",
       "      <td>NaN</td>\n",
       "      <td>NaN</td>\n",
       "      <td>NaN</td>\n",
       "    </tr>\n",
       "    <tr>\n",
       "      <th>2</th>\n",
       "      <td>coolchandra</td>\n",
       "      <td>28-04-19 9:25</td>\n",
       "      <td>0</td>\n",
       "      <td>0</td>\n",
       "      <td>NaN</td>\n",
       "      <td>#xlu back in range.. Mild bullish bias. Best t...</td>\n",
       "      <td>NaN</td>\n",
       "      <td>NaN</td>\n",
       "      <td>#xlu #trading #DayTrading #options #stocks #Op...</td>\n",
       "      <td>1.12249E+18</td>\n",
       "      <td>https://twitter.com/coolchandra/status/1122491...</td>\n",
       "      <td>NaN</td>\n",
       "      <td>NaN</td>\n",
       "      <td>NaN</td>\n",
       "      <td>NaN</td>\n",
       "      <td>NaN</td>\n",
       "      <td>NaN</td>\n",
       "      <td>NaN</td>\n",
       "    </tr>\n",
       "    <tr>\n",
       "      <th>3</th>\n",
       "      <td>it_tradingview</td>\n",
       "      <td>27-04-19 23:30</td>\n",
       "      <td>0</td>\n",
       "      <td>0</td>\n",
       "      <td>NaN</td>\n",
       "      <td>#AAPL - APPLE</td>\n",
       "      <td>NaN</td>\n",
       "      <td>NaN</td>\n",
       "      <td>NaN</td>\n",
       "      <td>NaN</td>\n",
       "      <td>NaN</td>\n",
       "      <td>NaN</td>\n",
       "      <td>NaN</td>\n",
       "      <td>NaN</td>\n",
       "      <td>NaN</td>\n",
       "      <td>NaN</td>\n",
       "      <td>NaN</td>\n",
       "      <td>NaN</td>\n",
       "    </tr>\n",
       "    <tr>\n",
       "      <th>4</th>\n",
       "      <td>it_tradingview</td>\n",
       "      <td>27-04-19 23:20</td>\n",
       "      <td>0</td>\n",
       "      <td>0</td>\n",
       "      <td>NaN</td>\n",
       "      <td>#AAPL - POSSIBILE RITRACIAMENTO PER APPLE - Tr...</td>\n",
       "      <td>NaN</td>\n",
       "      <td>NaN</td>\n",
       "      <td>#AAPL</td>\n",
       "      <td>1.12234E+18</td>\n",
       "      <td>https://twitter.com/it_tradingview/status/1122...</td>\n",
       "      <td>NaN</td>\n",
       "      <td>NaN</td>\n",
       "      <td>NaN</td>\n",
       "      <td>NaN</td>\n",
       "      <td>NaN</td>\n",
       "      <td>NaN</td>\n",
       "      <td>NaN</td>\n",
       "    </tr>\n",
       "  </tbody>\n",
       "</table>\n",
       "</div>"
      ],
      "text/plain": [
       "         username            date  retweets  favorites  Sentiment  \\\n",
       "0     stannabozny  28-04-19 14:37         0          0        NaN   \n",
       "1         fine209  28-04-19 10:48         0          0        NaN   \n",
       "2     coolchandra   28-04-19 9:25         0          0        NaN   \n",
       "3  it_tradingview  27-04-19 23:30         0          0        NaN   \n",
       "4  it_tradingview  27-04-19 23:20         0          0        NaN   \n",
       "\n",
       "                                                text  geo mentions  \\\n",
       "0  The Big Five FAANG Stock and Sector Service is...  NaN      NaN   \n",
       "1  #Apple #ipad #ipadair #aapl https://www. ebay-...  NaN      NaN   \n",
       "2  #xlu back in range.. Mild bullish bias. Best t...  NaN      NaN   \n",
       "3                                      #AAPL - APPLE  NaN      NaN   \n",
       "4  #AAPL - POSSIBILE RITRACIAMENTO PER APPLE - Tr...  NaN      NaN   \n",
       "\n",
       "                                            hashtags           id  \\\n",
       "0  #AMZN #AAPL #FB #NFLX #TSLA #GOOGL #IBB #IYR #...  1.12257E+18   \n",
       "1                        #Apple #ipad #ipadair #aapl  1.12251E+18   \n",
       "2  #xlu #trading #DayTrading #options #stocks #Op...  1.12249E+18   \n",
       "3                                                NaN          NaN   \n",
       "4                                              #AAPL  1.12234E+18   \n",
       "\n",
       "                                           permalink Unnamed: 11 Unnamed: 12  \\\n",
       "0  https://twitter.com/stannabozny/status/1122570...         NaN         NaN   \n",
       "1  https://twitter.com/fine209/status/11225128987...         NaN         NaN   \n",
       "2  https://twitter.com/coolchandra/status/1122491...         NaN         NaN   \n",
       "3                                                NaN         NaN         NaN   \n",
       "4  https://twitter.com/it_tradingview/status/1122...         NaN         NaN   \n",
       "\n",
       "  Unnamed: 13 Unnamed: 14 Unnamed: 15 Unnamed: 16 Unnamed: 17  \n",
       "0         NaN         NaN         NaN         NaN         NaN  \n",
       "1         NaN         NaN         NaN         NaN         NaN  \n",
       "2         NaN         NaN         NaN         NaN         NaN  \n",
       "3         NaN         NaN         NaN         NaN         NaN  \n",
       "4         NaN         NaN         NaN         NaN         NaN  "
      ]
     },
     "execution_count": 2,
     "metadata": {},
     "output_type": "execute_result"
    }
   ],
   "source": [
    "df = pd.read_csv(\".\\Raw_data\\output_got.csv\")\n",
    "df.head()"
   ]
  },
  {
   "cell_type": "code",
   "execution_count": 22,
   "metadata": {},
   "outputs": [
    {
     "name": "stdout",
     "output_type": "stream",
     "text": [
      "Phil Schiller Lays Out Apple's Case for Cracking Down on Screen Time Monitoring Apps http:// bit.ly/2vswlFG #AAPL\n",
      "Phil Schiller Lays Out Apple's Case for Cracking Down on Screen Time Monitoring Apps  #AAPL\n"
     ]
    }
   ],
   "source": [
    "random_text = df['text'][8]\n",
    "print(random_text)\n",
    "random_text = re.sub('http:// [A-Za-z0-9./]+','',random_text)\n",
    "print(random_text)"
   ]
  },
  {
   "cell_type": "code",
   "execution_count": 23,
   "metadata": {},
   "outputs": [
    {
     "data": {
      "text/html": [
       "<div>\n",
       "<style>\n",
       "    .dataframe thead tr:only-child th {\n",
       "        text-align: right;\n",
       "    }\n",
       "\n",
       "    .dataframe thead th {\n",
       "        text-align: left;\n",
       "    }\n",
       "\n",
       "    .dataframe tbody tr th {\n",
       "        vertical-align: top;\n",
       "    }\n",
       "</style>\n",
       "<table border=\"1\" class=\"dataframe\">\n",
       "  <thead>\n",
       "    <tr style=\"text-align: right;\">\n",
       "      <th></th>\n",
       "      <th>date</th>\n",
       "      <th>Sentiment</th>\n",
       "      <th>text</th>\n",
       "    </tr>\n",
       "  </thead>\n",
       "  <tbody>\n",
       "    <tr>\n",
       "      <th>0</th>\n",
       "      <td>28-04-19 14:37</td>\n",
       "      <td>NaN</td>\n",
       "      <td>The Big Five FAANG Stock and Sector Service is...</td>\n",
       "    </tr>\n",
       "    <tr>\n",
       "      <th>1</th>\n",
       "      <td>28-04-19 10:48</td>\n",
       "      <td>NaN</td>\n",
       "      <td>#Apple #ipad #ipadair #aapl https://www. ebay-...</td>\n",
       "    </tr>\n",
       "    <tr>\n",
       "      <th>2</th>\n",
       "      <td>28-04-19 9:25</td>\n",
       "      <td>NaN</td>\n",
       "      <td>#xlu back in range.. Mild bullish bias. Best t...</td>\n",
       "    </tr>\n",
       "    <tr>\n",
       "      <th>3</th>\n",
       "      <td>27-04-19 23:30</td>\n",
       "      <td>NaN</td>\n",
       "      <td>#AAPL - APPLE</td>\n",
       "    </tr>\n",
       "    <tr>\n",
       "      <th>4</th>\n",
       "      <td>27-04-19 23:20</td>\n",
       "      <td>NaN</td>\n",
       "      <td>#AAPL - POSSIBILE RITRACIAMENTO PER APPLE - Tr...</td>\n",
       "    </tr>\n",
       "  </tbody>\n",
       "</table>\n",
       "</div>"
      ],
      "text/plain": [
       "             date  Sentiment  \\\n",
       "0  28-04-19 14:37        NaN   \n",
       "1  28-04-19 10:48        NaN   \n",
       "2   28-04-19 9:25        NaN   \n",
       "3  27-04-19 23:30        NaN   \n",
       "4  27-04-19 23:20        NaN   \n",
       "\n",
       "                                                text  \n",
       "0  The Big Five FAANG Stock and Sector Service is...  \n",
       "1  #Apple #ipad #ipadair #aapl https://www. ebay-...  \n",
       "2  #xlu back in range.. Mild bullish bias. Best t...  \n",
       "3                                      #AAPL - APPLE  \n",
       "4  #AAPL - POSSIBILE RITRACIAMENTO PER APPLE - Tr...  "
      ]
     },
     "execution_count": 23,
     "metadata": {},
     "output_type": "execute_result"
    }
   ],
   "source": [
    "df.drop(['username','retweets','favorites', 'geo', 'mentions', 'hashtags', 'id','permalink', 'Unnamed: 11', 'Unnamed: 12',\n",
    "       'Unnamed: 13', 'Unnamed: 14', 'Unnamed: 15', 'Unnamed: 16','Unnamed: 17' ],axis=1,inplace=True)\n",
    "df.head()"
   ]
  },
  {
   "cell_type": "code",
   "execution_count": 24,
   "metadata": {
    "collapsed": true
   },
   "outputs": [],
   "source": [
    "#get length of each string\n",
    "df['pre_clean_len'] = [len(t) for t in df.text]"
   ]
  },
  {
   "cell_type": "code",
   "execution_count": 25,
   "metadata": {},
   "outputs": [
    {
     "data": {
      "text/html": [
       "<div>\n",
       "<style>\n",
       "    .dataframe thead tr:only-child th {\n",
       "        text-align: right;\n",
       "    }\n",
       "\n",
       "    .dataframe thead th {\n",
       "        text-align: left;\n",
       "    }\n",
       "\n",
       "    .dataframe tbody tr th {\n",
       "        vertical-align: top;\n",
       "    }\n",
       "</style>\n",
       "<table border=\"1\" class=\"dataframe\">\n",
       "  <thead>\n",
       "    <tr style=\"text-align: right;\">\n",
       "      <th></th>\n",
       "      <th>date</th>\n",
       "      <th>Sentiment</th>\n",
       "      <th>text</th>\n",
       "      <th>pre_clean_len</th>\n",
       "    </tr>\n",
       "  </thead>\n",
       "  <tbody>\n",
       "    <tr>\n",
       "      <th>0</th>\n",
       "      <td>28-04-19 14:37</td>\n",
       "      <td>NaN</td>\n",
       "      <td>The Big Five FAANG Stock and Sector Service is...</td>\n",
       "      <td>190</td>\n",
       "    </tr>\n",
       "    <tr>\n",
       "      <th>1</th>\n",
       "      <td>28-04-19 10:48</td>\n",
       "      <td>NaN</td>\n",
       "      <td>#Apple #ipad #ipadair #aapl https://www. ebay-...</td>\n",
       "      <td>171</td>\n",
       "    </tr>\n",
       "    <tr>\n",
       "      <th>2</th>\n",
       "      <td>28-04-19 9:25</td>\n",
       "      <td>NaN</td>\n",
       "      <td>#xlu back in range.. Mild bullish bias. Best t...</td>\n",
       "      <td>231</td>\n",
       "    </tr>\n",
       "    <tr>\n",
       "      <th>3</th>\n",
       "      <td>27-04-19 23:30</td>\n",
       "      <td>NaN</td>\n",
       "      <td>#AAPL - APPLE</td>\n",
       "      <td>13</td>\n",
       "    </tr>\n",
       "    <tr>\n",
       "      <th>4</th>\n",
       "      <td>27-04-19 23:20</td>\n",
       "      <td>NaN</td>\n",
       "      <td>#AAPL - POSSIBILE RITRACIAMENTO PER APPLE - Tr...</td>\n",
       "      <td>109</td>\n",
       "    </tr>\n",
       "  </tbody>\n",
       "</table>\n",
       "</div>"
      ],
      "text/plain": [
       "             date  Sentiment  \\\n",
       "0  28-04-19 14:37        NaN   \n",
       "1  28-04-19 10:48        NaN   \n",
       "2   28-04-19 9:25        NaN   \n",
       "3  27-04-19 23:30        NaN   \n",
       "4  27-04-19 23:20        NaN   \n",
       "\n",
       "                                                text  pre_clean_len  \n",
       "0  The Big Five FAANG Stock and Sector Service is...            190  \n",
       "1  #Apple #ipad #ipadair #aapl https://www. ebay-...            171  \n",
       "2  #xlu back in range.. Mild bullish bias. Best t...            231  \n",
       "3                                      #AAPL - APPLE             13  \n",
       "4  #AAPL - POSSIBILE RITRACIAMENTO PER APPLE - Tr...            109  "
      ]
     },
     "execution_count": 25,
     "metadata": {},
     "output_type": "execute_result"
    }
   ],
   "source": [
    "df.head()"
   ]
  },
  {
   "cell_type": "code",
   "execution_count": 27,
   "metadata": {},
   "outputs": [
    {
     "data": {
      "image/png": "[encoded data removed]",
      "text/plain": [
       "<matplotlib.figure.Figure at 0x1e1dd02bc50>"
      ]
     },
     "metadata": {},
     "output_type": "display_data"
    }
   ],
   "source": [
    "fig, ax = plt.subplots(figsize=(5, 5))\n",
    "plt.boxplot(df.pre_clean_len)\n",
    "plt.show()"
   ]
  },
  {
   "cell_type": "code",
   "execution_count": 31,
   "metadata": {},
   "outputs": [
    {
     "data": {
      "image/png": "[encoded data removed]",
      "text/plain": [
       "<matplotlib.figure.Figure at 0x1e1dd02bd68>"
      ]
     },
     "metadata": {},
     "output_type": "display_data"
    }
   ],
   "source": [
    "#data which have more than 140 chars\n",
    "a = df[df.pre_clean_len < 280].head(10)\n",
    "a\n",
    "fig, ax = plt.subplots(figsize=(5, 5))\n",
    "plt.boxplot(a.pre_clean_len)\n",
    "plt.show()"
   ]
  },
  {
   "cell_type": "code",
   "execution_count": 16,
   "metadata": {},
   "outputs": [
    {
     "data": {
      "text/plain": [
       "100"
      ]
     },
     "execution_count": 16,
     "metadata": {},
     "output_type": "execute_result"
    }
   ],
   "source": [
    "#Cleaning the data\n",
    "from bs4 import BeautifulSoup\n",
    "import re\n",
    "from nltk.tokenize import WordPunctTokenizer\n",
    "tok = WordPunctTokenizer()\n",
    "#only english characters\n",
    "pat1 = r'@[A-Za-z0-9]+'\n",
    "#removes links\n",
    "pat2 = r'https?://[A-Za-z0-9./]+'\n",
    "combined_pat = r'|'.join((pat1, pat2))\n",
    "def tweet_cleaner(text):\n",
    "    soup = BeautifulSoup(text, 'lxml')\n",
    "    souped = soup.get_text()\n",
    "    stripped = re.sub(combined_pat, '', souped)\n",
    "    try:\n",
    "        clean = stripped.decode(\"utf-8-sig\").replace(u\"\\ufffd\", \"?\")\n",
    "    except:\n",
    "        clean = stripped\n",
    "    letters_only = re.sub(\"[^a-zA-Z]\", \" \", clean)\n",
    "    lower_case = letters_only.lower()\n",
    "    # During the letters_only process two lines above, it has created unnecessay white spaces,\n",
    "    # tokenize and join together to remove unneccessary white spaces\n",
    "    words = tok.tokenize(lower_case)\n",
    "    return (\" \".join(words)).strip()\n",
    "testing = df.text[:100]\n",
    "test_result = []\n",
    "for t in testing:\n",
    "    test_result.append(tweet_cleaner(t))\n",
    "len(test_result)\n"
   ]
  },
  {
   "cell_type": "code",
   "execution_count": 18,
   "metadata": {},
   "outputs": [
    {
     "name": "stdout",
     "output_type": "stream",
     "text": [
      "Tweets 1000 of 10611 has been processed\n",
      "Tweets 2000 of 10611 has been processed\n",
      "Tweets 3000 of 10611 has been processed\n",
      "Tweets 4000 of 10611 has been processed\n",
      "Tweets 5000 of 10611 has been processed\n",
      "Tweets 6000 of 10611 has been processed\n",
      "Tweets 7000 of 10611 has been processed\n",
      "Tweets 8000 of 10611 has been processed\n",
      "Tweets 9000 of 10611 has been processed\n",
      "Tweets 10000 of 10611 has been processed\n"
     ]
    }
   ],
   "source": [
    "clean_tweet_texts = []\n",
    "for i in range(0,len(df)):\n",
    "    if( (i+1)%1000 == 0 ):\n",
    "        print (\"Tweets %d of %d has been processed\" % ( i+1, len(df)))\n",
    "    clean_tweet_texts.append(tweet_cleaner(df['text'][i]))"
   ]
  },
  {
   "cell_type": "code",
   "execution_count": 21,
   "metadata": {},
   "outputs": [
    {
     "data": {
      "text/html": [
       "<div>\n",
       "<style>\n",
       "    .dataframe thead tr:only-child th {\n",
       "        text-align: right;\n",
       "    }\n",
       "\n",
       "    .dataframe thead th {\n",
       "        text-align: left;\n",
       "    }\n",
       "\n",
       "    .dataframe tbody tr th {\n",
       "        vertical-align: top;\n",
       "    }\n",
       "</style>\n",
       "<table border=\"1\" class=\"dataframe\">\n",
       "  <thead>\n",
       "    <tr style=\"text-align: right;\">\n",
       "      <th></th>\n",
       "      <th>text</th>\n",
       "      <th>target</th>\n",
       "      <th>date</th>\n",
       "    </tr>\n",
       "  </thead>\n",
       "  <tbody>\n",
       "    <tr>\n",
       "      <th>0</th>\n",
       "      <td>the big five faang stock and sector service is...</td>\n",
       "      <td>NaN</td>\n",
       "      <td>28-04-19 14:37</td>\n",
       "    </tr>\n",
       "    <tr>\n",
       "      <th>1</th>\n",
       "      <td>apple ipad ipadair aapl ebay kleinanzeigen de ...</td>\n",
       "      <td>NaN</td>\n",
       "      <td>28-04-19 10:48</td>\n",
       "    </tr>\n",
       "    <tr>\n",
       "      <th>2</th>\n",
       "      <td>xlu back in range mild bullish bias best to wa...</td>\n",
       "      <td>NaN</td>\n",
       "      <td>28-04-19 9:25</td>\n",
       "    </tr>\n",
       "    <tr>\n",
       "      <th>3</th>\n",
       "      <td>aapl apple</td>\n",
       "      <td>NaN</td>\n",
       "      <td>27-04-19 23:30</td>\n",
       "    </tr>\n",
       "    <tr>\n",
       "      <th>4</th>\n",
       "      <td>aapl possibile ritraciamento per apple trading...</td>\n",
       "      <td>NaN</td>\n",
       "      <td>27-04-19 23:20</td>\n",
       "    </tr>\n",
       "  </tbody>\n",
       "</table>\n",
       "</div>"
      ],
      "text/plain": [
       "                                                text  target            date\n",
       "0  the big five faang stock and sector service is...     NaN  28-04-19 14:37\n",
       "1  apple ipad ipadair aapl ebay kleinanzeigen de ...     NaN  28-04-19 10:48\n",
       "2  xlu back in range mild bullish bias best to wa...     NaN   28-04-19 9:25\n",
       "3                                         aapl apple     NaN  27-04-19 23:30\n",
       "4  aapl possibile ritraciamento per apple trading...     NaN  27-04-19 23:20"
      ]
     },
     "execution_count": 21,
     "metadata": {},
     "output_type": "execute_result"
    }
   ],
   "source": [
    "clean_df = pd.DataFrame(clean_tweet_texts,columns=['text'])\n",
    "clean_df['target'] = df.Sentiment\n",
    "clean_df['date'] = df.date\n",
    "clean_df.head()"
   ]
  },
  {
   "cell_type": "code",
   "execution_count": 23,
   "metadata": {
    "collapsed": true
   },
   "outputs": [],
   "source": [
    "#save df to csv\n",
    "clean_df.to_csv(\".\\Cleaned_data\\clean_aapl.csv\")"
   ]
  },
  {
   "cell_type": "code",
   "execution_count": 32,
   "metadata": {
    "collapsed": true
   },
   "outputs": [],
   "source": [
    "#Referenced from: https://github.com/tthustla/twitter_sentiment_analysis_part1/blob/master/Capstone_part2.ipynb"
   ]
  },
  {
   "cell_type": "code",
   "execution_count": null,
   "metadata": {
    "collapsed": true
   },
   "outputs": [],
   "source": []
  }
 ],
 "metadata": {
  "kernelspec": {
   "display_name": "Python 3",
   "language": "python",
   "name": "python3"
  },
  "language_info": {
   "codemirror_mode": {
    "name": "ipython",
    "version": 3
   },
   "file_extension": ".py",
   "mimetype": "text/x-python",
   "name": "python",
   "nbconvert_exporter": "python",
   "pygments_lexer": "ipython3",
   "version": "3.6.3"
  }
 },
 "nbformat": 4,
 "nbformat_minor": 2
}
